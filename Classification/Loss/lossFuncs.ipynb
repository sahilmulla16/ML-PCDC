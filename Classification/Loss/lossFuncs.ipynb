{
 "cells": [
  {
   "cell_type": "code",
   "execution_count": 1,
   "id": "2f17b475",
   "metadata": {},
   "outputs": [],
   "source": [
    "import numpy as np\n",
    "import matplotlib.pyplot as plt"
   ]
  },
  {
   "cell_type": "markdown",
   "id": "1cad4f6f-d1f4-4954-86ab-8b7ae2bf62f9",
   "metadata": {},
   "source": [
    "## Classification"
   ]
  },
  {
   "cell_type": "code",
   "execution_count": 3,
   "id": "1b02bfd9-6019-4b6d-bc5f-f9f2dc2fba2e",
   "metadata": {},
   "outputs": [],
   "source": [
    "data = np.random.randn (10)\n",
    "y = np.where (data<0, 0, 1)"
   ]
  },
  {
   "cell_type": "code",
   "execution_count": 4,
   "id": "57aba537-5a11-459d-8eaf-d0cdc9c2069f",
   "metadata": {},
   "outputs": [
    {
     "data": {
      "text/plain": [
       "array([-0.61722947,  0.94186388,  1.88298521,  0.04628778,  1.22814119,\n",
       "       -1.84893573, -0.86909299, -1.19467838,  0.4392518 ,  1.55689511])"
      ]
     },
     "execution_count": 4,
     "metadata": {},
     "output_type": "execute_result"
    }
   ],
   "source": [
    "data"
   ]
  },
  {
   "cell_type": "code",
   "execution_count": 5,
   "id": "7ffb40bb-585c-4332-ab5c-dbe33b5df562",
   "metadata": {},
   "outputs": [
    {
     "data": {
      "text/plain": [
       "array([0, 1, 1, 1, 1, 0, 0, 0, 1, 1])"
      ]
     },
     "execution_count": 5,
     "metadata": {},
     "output_type": "execute_result"
    }
   ],
   "source": [
    "y"
   ]
  },
  {
   "cell_type": "code",
   "execution_count": 6,
   "id": "6f78cf36-e065-4a01-ad2c-9fac4fd82cd5",
   "metadata": {},
   "outputs": [],
   "source": [
    "def sigmoid (z):\n",
    "    return (1 / (1 + np.exp (-z)))\n",
    "\n",
    "predicted_value = [sigmoid (i) for i in data]\n",
    "predicted_value = np.array (predicted_value)"
   ]
  },
  {
   "cell_type": "code",
   "execution_count": 7,
   "id": "0d4c1d4e-1e29-4c30-800a-8c7494c6293d",
   "metadata": {},
   "outputs": [
    {
     "data": {
      "text/plain": [
       "array([0.35041183, 0.719476  , 0.86795364, 0.51156988, 0.77349307,\n",
       "       0.1359979 , 0.29544307, 0.23242326, 0.60808073, 0.82590737])"
      ]
     },
     "execution_count": 7,
     "metadata": {},
     "output_type": "execute_result"
    }
   ],
   "source": [
    "predicted_value"
   ]
  },
  {
   "cell_type": "code",
   "execution_count": 8,
   "id": "4aca1753-690a-457c-913e-0d01d7f930aa",
   "metadata": {},
   "outputs": [],
   "source": [
    "def logLoss (y_pred, y_true):\n",
    "    return -(y_true * np.log (y_pred) + (1-y_true) * np.log (1-y_pred)).mean ()"
   ]
  },
  {
   "cell_type": "code",
   "execution_count": 9,
   "id": "64ea4a9d-a6bf-4db8-9b4b-ba004c70d0d5",
   "metadata": {},
   "outputs": [],
   "source": [
    "loss = logLoss (predicted_value, y)"
   ]
  },
  {
   "cell_type": "code",
   "execution_count": 10,
   "id": "596f75d6-92b8-4e9e-8cb7-9ae5aa7d6748",
   "metadata": {},
   "outputs": [
    {
     "data": {
      "text/plain": [
       "0.32789787416505395"
      ]
     },
     "execution_count": 10,
     "metadata": {},
     "output_type": "execute_result"
    }
   ],
   "source": [
    "loss"
   ]
  },
  {
   "cell_type": "code",
   "execution_count": 11,
   "id": "61648eb3",
   "metadata": {},
   "outputs": [
    {
     "data": {
      "text/plain": [
       "0.32789787416505395"
      ]
     },
     "execution_count": 11,
     "metadata": {},
     "output_type": "execute_result"
    }
   ],
   "source": [
    "from sklearn.metrics import log_loss\n",
    "log_loss(y_true=y, y_pred=predicted_value)"
   ]
  },
  {
   "cell_type": "code",
   "execution_count": 12,
   "id": "89d510ab",
   "metadata": {},
   "outputs": [],
   "source": [
    "import torch"
   ]
  },
  {
   "cell_type": "code",
   "execution_count": 13,
   "id": "9c4cc9a0-a67c-4da2-9443-782db62d10cc",
   "metadata": {},
   "outputs": [
    {
     "data": {
      "text/plain": [
       "tensor(0.3279)"
      ]
     },
     "execution_count": 13,
     "metadata": {},
     "output_type": "execute_result"
    }
   ],
   "source": [
    "from torch.nn import BCELoss\n",
    "\n",
    "torchOutput = torch.Tensor (predicted_value)\n",
    "torch_y = torch.Tensor (y)\n",
    "\n",
    "torchLoss = BCELoss ()\n",
    "torch_output = torchLoss (torchOutput, torch_y)\n",
    "torch_output"
   ]
  },
  {
   "cell_type": "code",
   "execution_count": 14,
   "id": "86db9b63-7361-460c-acc2-b6ee89182ea2",
   "metadata": {},
   "outputs": [],
   "source": [
    "from tensorflow.keras.losses import BinaryCrossentropy\n",
    "bcetf = BinaryCrossentropy ()\n",
    "tf_val = bcetf (y_true=y, y_pred=predicted_value)"
   ]
  },
  {
   "cell_type": "code",
   "execution_count": 15,
   "id": "47bd6ef0-1695-4898-aa65-a8c516815d44",
   "metadata": {},
   "outputs": [
    {
     "data": {
      "text/plain": [
       "<tf.Tensor: shape=(), dtype=float32, numpy=0.32789788>"
      ]
     },
     "execution_count": 15,
     "metadata": {},
     "output_type": "execute_result"
    }
   ],
   "source": [
    "tf_val"
   ]
  },
  {
   "cell_type": "code",
   "execution_count": null,
   "id": "20645c02",
   "metadata": {},
   "outputs": [],
   "source": []
  }
 ],
 "metadata": {
  "kernelspec": {
   "display_name": "workshop",
   "language": "python",
   "name": "python3"
  },
  "language_info": {
   "codemirror_mode": {
    "name": "ipython",
    "version": 3
   },
   "file_extension": ".py",
   "mimetype": "text/x-python",
   "name": "python",
   "nbconvert_exporter": "python",
   "pygments_lexer": "ipython3",
   "version": "3.11.6"
  }
 },
 "nbformat": 4,
 "nbformat_minor": 5
}
