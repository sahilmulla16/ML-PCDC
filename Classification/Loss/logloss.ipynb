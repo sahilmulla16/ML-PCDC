{
 "cells": [
  {
   "cell_type": "code",
   "execution_count": 1,
   "id": "c5ea9242",
   "metadata": {},
   "outputs": [],
   "source": [
    "import numpy as np\n",
    "X = np.array([.50,1.50,2.00,4.25,3.25,5.50], ndmin=2).reshape((6,1))\n",
    "y = np.array([0,0,0,1,1,1])"
   ]
  },
  {
   "cell_type": "code",
   "execution_count": 2,
   "id": "5cc507ff",
   "metadata": {},
   "outputs": [],
   "source": [
    "class LogisticRegression:\n",
    "    def __init__ (self):\n",
    "        self.b_0 = 0\n",
    "        self.b_1 = 0\n",
    "        self.sigmoid = np.array ([])\n",
    "\n",
    "    def fit (self, X, y):\n",
    "        X_mean = np.mean (X)\n",
    "        y_mean = np.mean (y)\n",
    "        ssxy, ssx = 0, 0\n",
    "        for _ in range (len (X)):\n",
    "            ssxy += (X[_]-X_mean)*(y[_]-y_mean)\n",
    "            ssx += (X[_]-X_mean)**2\n",
    "\n",
    "        self.b_1 = ssxy / ssx\n",
    "        self.b_0 = y_mean - (self.b_1*X_mean)\n",
    "        return self.b_0, self.b_1\n",
    "    \n",
    "    def predict (self, X):\n",
    "        y_hat = self.b_0 + (X * self.b_1)\n",
    "        self.sigmoid = np.append (self.sigmoid, [1 / (1 + np.exp (-y_hat))])\n",
    "        return self.sigmoid"
   ]
  },
  {
   "cell_type": "code",
   "execution_count": 3,
   "id": "8448e10b",
   "metadata": {},
   "outputs": [
    {
     "name": "stdout",
     "output_type": "stream",
     "text": [
      "(array([-0.2409201]), array([0.26150121]))\n"
     ]
    }
   ],
   "source": [
    "model = LogisticRegression ()\n",
    "print (model.fit (X, y))"
   ]
  },
  {
   "cell_type": "code",
   "execution_count": 4,
   "id": "3084bd8f",
   "metadata": {},
   "outputs": [],
   "source": [
    "pred = model.predict (X)"
   ]
  },
  {
   "cell_type": "code",
   "execution_count": 5,
   "id": "ba4a013f",
   "metadata": {},
   "outputs": [],
   "source": [
    "def logLoss (y_pred, y_true):\n",
    "    return -(y_true * np.log (y_pred) + (1-y_true) * np.log (1-y_pred)).mean ()"
   ]
  },
  {
   "cell_type": "code",
   "execution_count": 6,
   "id": "c24265ce",
   "metadata": {},
   "outputs": [
    {
     "data": {
      "text/plain": [
       "0.5505597217123788"
      ]
     },
     "execution_count": 6,
     "metadata": {},
     "output_type": "execute_result"
    }
   ],
   "source": [
    "loss = logLoss(pred, y)\n",
    "loss"
   ]
  },
  {
   "cell_type": "code",
   "execution_count": 7,
   "id": "091f0484",
   "metadata": {},
   "outputs": [
    {
     "data": {
      "text/plain": [
       "0.5505597217123788"
      ]
     },
     "execution_count": 7,
     "metadata": {},
     "output_type": "execute_result"
    }
   ],
   "source": [
    "from sklearn.metrics import log_loss\n",
    "log_loss (y_true=y, y_pred=pred)"
   ]
  },
  {
   "cell_type": "code",
   "execution_count": null,
   "id": "ec10d447",
   "metadata": {},
   "outputs": [],
   "source": []
  }
 ],
 "metadata": {
  "kernelspec": {
   "display_name": "workshop",
   "language": "python",
   "name": "python3"
  },
  "language_info": {
   "codemirror_mode": {
    "name": "ipython",
    "version": 3
   },
   "file_extension": ".py",
   "mimetype": "text/x-python",
   "name": "python",
   "nbconvert_exporter": "python",
   "pygments_lexer": "ipython3",
   "version": "3.11.6"
  }
 },
 "nbformat": 4,
 "nbformat_minor": 5
}
