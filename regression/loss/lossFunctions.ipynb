{
 "cells": [
  {
   "cell_type": "code",
   "execution_count": 1,
   "id": "dffec04d-8acc-4a65-9c49-3beac0c01be4",
   "metadata": {},
   "outputs": [],
   "source": [
    "import numpy as np"
   ]
  },
  {
   "cell_type": "markdown",
   "id": "7663f803-160c-48e5-8d0b-63ad9e4f89d8",
   "metadata": {},
   "source": [
    "### Bias is 0.7 - beta 0 and weight is 0.3 which is beta 1"
   ]
  },
  {
   "cell_type": "code",
   "execution_count": 2,
   "id": "62a2cc78-4e9e-4f6f-b933-0ece66dc1731",
   "metadata": {},
   "outputs": [],
   "source": [
    "X = np.arange (start=0, stop=1, step=0.01)\n",
    "y = 0.7 + X * 0.3"
   ]
  },
  {
   "cell_type": "code",
   "execution_count": 3,
   "id": "4651cf0c-70df-413d-8fd9-eaf66b469d84",
   "metadata": {},
   "outputs": [
    {
     "data": {
      "text/plain": [
       "array([0.  , 0.01, 0.02, 0.03, 0.04, 0.05, 0.06, 0.07, 0.08, 0.09])"
      ]
     },
     "execution_count": 3,
     "metadata": {},
     "output_type": "execute_result"
    }
   ],
   "source": [
    "X[0:10]"
   ]
  },
  {
   "cell_type": "code",
   "execution_count": 4,
   "id": "629e703b-ea5b-4935-abbb-47360290d79f",
   "metadata": {},
   "outputs": [
    {
     "data": {
      "text/plain": [
       "array([0.7  , 0.703, 0.706, 0.709, 0.712, 0.715, 0.718, 0.721, 0.724,\n",
       "       0.727])"
      ]
     },
     "execution_count": 4,
     "metadata": {},
     "output_type": "execute_result"
    }
   ],
   "source": [
    "y[0:10]"
   ]
  },
  {
   "cell_type": "code",
   "execution_count": 5,
   "id": "60588f8b-9d2a-4a0f-b7e7-75088e9e337e",
   "metadata": {},
   "outputs": [],
   "source": [
    "import matplotlib.pyplot as plt"
   ]
  },
  {
   "cell_type": "code",
   "execution_count": 6,
   "id": "26ecbdb4-63af-404f-9b45-bae4126d6727",
   "metadata": {},
   "outputs": [
    {
     "data": {
      "text/plain": [
       "(1, 100)"
      ]
     },
     "execution_count": 6,
     "metadata": {},
     "output_type": "execute_result"
    }
   ],
   "source": [
    "X = np.expand_dims (X, axis=0)\n",
    "X.shape"
   ]
  },
  {
   "cell_type": "code",
   "execution_count": 7,
   "id": "f628104c-ba1e-4afa-8fd2-f936497c92d1",
   "metadata": {},
   "outputs": [],
   "source": [
    "X = np.transpose (X)"
   ]
  },
  {
   "cell_type": "code",
   "execution_count": 8,
   "id": "41402861-858e-420f-9b29-78a63836476f",
   "metadata": {},
   "outputs": [
    {
     "data": {
      "text/plain": [
       "(100, 1)"
      ]
     },
     "execution_count": 8,
     "metadata": {},
     "output_type": "execute_result"
    }
   ],
   "source": [
    "X.shape"
   ]
  },
  {
   "cell_type": "code",
   "execution_count": 9,
   "id": "7eb24fb8-61b2-409e-ab46-116bd6f676c0",
   "metadata": {},
   "outputs": [
    {
     "data": {
      "text/plain": [
       "array([[0.]])"
      ]
     },
     "execution_count": 9,
     "metadata": {},
     "output_type": "execute_result"
    }
   ],
   "source": [
    "np.zeros ((1,1))"
   ]
  },
  {
   "cell_type": "code",
   "execution_count": 10,
   "id": "e2ae20f8-294e-4db4-bfdc-3a7bbab64d71",
   "metadata": {},
   "outputs": [],
   "source": [
    "np.random.seed (0)\n",
    "\n",
    "class Model:\n",
    "    def __init__ (self, inputLayer, outputLayer):\n",
    "        self.weights = np.random.randn(1)\n",
    "        self.bias = np.zeros ((1,1))\n",
    "\n",
    "    def linear (self, X):\n",
    "        self.output = self.weights * X + self.bias\n",
    "        return self.output"
   ]
  },
  {
   "cell_type": "code",
   "execution_count": 11,
   "id": "48ee92a5-e099-4a6e-a0a5-f7bbff71bf52",
   "metadata": {},
   "outputs": [],
   "source": [
    "modelInit = Model (100, 1)"
   ]
  },
  {
   "cell_type": "code",
   "execution_count": 12,
   "id": "ee01ed30-8f5b-4d74-99b8-d013e84291ea",
   "metadata": {},
   "outputs": [],
   "source": [
    "y_pred = modelInit.linear (X)"
   ]
  },
  {
   "cell_type": "code",
   "execution_count": 13,
   "id": "be072d7a-8e26-4385-828f-9de988878d8d",
   "metadata": {},
   "outputs": [
    {
     "data": {
      "text/plain": [
       "(100, 1)"
      ]
     },
     "execution_count": 13,
     "metadata": {},
     "output_type": "execute_result"
    }
   ],
   "source": [
    "y_pred.shape"
   ]
  },
  {
   "cell_type": "code",
   "execution_count": 14,
   "id": "62e7a4a8-f31d-4539-af26-b91ab53dbec7",
   "metadata": {},
   "outputs": [
    {
     "data": {
      "text/plain": [
       "(100,)"
      ]
     },
     "execution_count": 14,
     "metadata": {},
     "output_type": "execute_result"
    }
   ],
   "source": [
    "y.shape"
   ]
  },
  {
   "cell_type": "code",
   "execution_count": 15,
   "id": "11f4cfb9-0377-4927-8cb8-b6c2d8c6284f",
   "metadata": {},
   "outputs": [
    {
     "data": {
      "text/plain": [
       "(100,)"
      ]
     },
     "execution_count": 15,
     "metadata": {},
     "output_type": "execute_result"
    }
   ],
   "source": [
    "y_pred = np.squeeze (y_pred)\n",
    "y_pred.shape"
   ]
  },
  {
   "cell_type": "code",
   "execution_count": 16,
   "id": "5a1c7fb1-5994-4734-8d48-dedc4de60413",
   "metadata": {},
   "outputs": [
    {
     "data": {
      "text/plain": [
       "[<matplotlib.lines.Line2D at 0x1f5d56f5910>]"
      ]
     },
     "execution_count": 16,
     "metadata": {},
     "output_type": "execute_result"
    },
    {
     "data": {
      "image/png": "[encoded data removed]",
      "text/plain": [
       "<Figure size 640x480 with 1 Axes>"
      ]
     },
     "metadata": {},
     "output_type": "display_data"
    }
   ],
   "source": [
    "plt.plot (X, y_pred)\n",
    "plt.plot (X, y)"
   ]
  },
  {
   "cell_type": "code",
   "execution_count": 17,
   "id": "9fd01676-14ab-4509-9f05-1fdefaacca1d",
   "metadata": {},
   "outputs": [],
   "source": [
    "error = (y - y_pred)\n",
    "squaredError = error ** 2\n",
    "mean_squared_error = np.mean (squaredError)"
   ]
  },
  {
   "cell_type": "code",
   "execution_count": 18,
   "id": "94a04bd6-fbae-4346-97ff-4170ee06505c",
   "metadata": {},
   "outputs": [
    {
     "data": {
      "text/plain": [
       "0.1792132926180775"
      ]
     },
     "execution_count": 18,
     "metadata": {},
     "output_type": "execute_result"
    }
   ],
   "source": [
    "mean_squared_error"
   ]
  },
  {
   "cell_type": "code",
   "execution_count": 19,
   "id": "f3b9c4ad",
   "metadata": {},
   "outputs": [],
   "source": [
    "from sklearn.metrics import mean_squared_error"
   ]
  },
  {
   "cell_type": "code",
   "execution_count": 20,
   "id": "5d80d760",
   "metadata": {},
   "outputs": [
    {
     "data": {
      "text/plain": [
       "0.1792132926180775"
      ]
     },
     "execution_count": 20,
     "metadata": {},
     "output_type": "execute_result"
    }
   ],
   "source": [
    "mean_squared_error(y_true=y, y_pred=y_pred)"
   ]
  },
  {
   "cell_type": "code",
   "execution_count": 21,
   "id": "1b5476b4-4e4f-40ac-9c4d-5ee25159afa4",
   "metadata": {},
   "outputs": [
    {
     "data": {
      "text/plain": [
       "tensor(0.1792)"
      ]
     },
     "execution_count": 21,
     "metadata": {},
     "output_type": "execute_result"
    }
   ],
   "source": [
    "import torch\n",
    "from torch.nn import MSELoss\n",
    "mse = MSELoss ()\n",
    "\n",
    "torch_true = torch.Tensor (y)\n",
    "torch_pred = torch.Tensor (y_pred)\n",
    "\n",
    "loss = mse (torch_true, torch_pred)\n",
    "loss"
   ]
  },
  {
   "cell_type": "code",
   "execution_count": 22,
   "id": "29ad87cc-da03-4e66-a93c-3850995b0b68",
   "metadata": {},
   "outputs": [],
   "source": [
    "import tensorflow as tf\n",
    "from tensorflow.keras.losses import MeanSquaredError"
   ]
  },
  {
   "cell_type": "code",
   "execution_count": 23,
   "id": "0a0704e1-6356-42da-9367-a5d2020b84e2",
   "metadata": {},
   "outputs": [
    {
     "data": {
      "text/plain": [
       "<tf.Tensor: shape=(), dtype=float32, numpy=0.1792133>"
      ]
     },
     "execution_count": 23,
     "metadata": {},
     "output_type": "execute_result"
    }
   ],
   "source": [
    "mse_tf = MeanSquaredError ()\n",
    "loss_tf = mse_tf (y, y_pred)\n",
    "loss_tf"
   ]
  },
  {
   "cell_type": "code",
   "execution_count": null,
   "id": "d59edea4",
   "metadata": {},
   "outputs": [],
   "source": []
  }
 ],
 "metadata": {
  "kernelspec": {
   "display_name": "workshop",
   "language": "python",
   "name": "python3"
  },
  "language_info": {
   "codemirror_mode": {
    "name": "ipython",
    "version": 3
   },
   "file_extension": ".py",
   "mimetype": "text/x-python",
   "name": "python",
   "nbconvert_exporter": "python",
   "pygments_lexer": "ipython3",
   "version": "3.11.6"
  }
 },
 "nbformat": 4,
 "nbformat_minor": 5
}
